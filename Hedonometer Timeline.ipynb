{
 "cells": [
  {
   "cell_type": "code",
   "execution_count": 1,
   "metadata": {},
   "outputs": [],
   "source": [
    "%matplotlib inline\n",
    "import pandas as pd\n",
    "import matplotlib\n",
    "import matplotlib.pyplot as plt\n",
    "import numpy as np\n",
    "import re\n",
    "plt.style.use('seaborn-whitegrid')\n",
    "matplotlib.rcParams['figure.figsize'] = (10.0, 4.0)"
   ]
  },
  {
   "cell_type": "code",
   "execution_count": 2,
   "metadata": {},
   "outputs": [
    {
     "data": {
      "text/html": [
       "<div>\n",
       "<style scoped>\n",
       "    .dataframe tbody tr th:only-of-type {\n",
       "        vertical-align: middle;\n",
       "    }\n",
       "\n",
       "    .dataframe tbody tr th {\n",
       "        vertical-align: top;\n",
       "    }\n",
       "\n",
       "    .dataframe thead th {\n",
       "        text-align: right;\n",
       "    }\n",
       "</style>\n",
       "<table border=\"1\" class=\"dataframe\">\n",
       "  <thead>\n",
       "    <tr style=\"text-align: right;\">\n",
       "      <th></th>\n",
       "      <th>word</th>\n",
       "      <th>score</th>\n",
       "    </tr>\n",
       "    <tr>\n",
       "      <th>rank</th>\n",
       "      <th></th>\n",
       "      <th></th>\n",
       "    </tr>\n",
       "  </thead>\n",
       "  <tbody>\n",
       "    <tr>\n",
       "      <th>0</th>\n",
       "      <td>laughter</td>\n",
       "      <td>8.50</td>\n",
       "    </tr>\n",
       "    <tr>\n",
       "      <th>1</th>\n",
       "      <td>happiness</td>\n",
       "      <td>8.44</td>\n",
       "    </tr>\n",
       "    <tr>\n",
       "      <th>2</th>\n",
       "      <td>love</td>\n",
       "      <td>8.42</td>\n",
       "    </tr>\n",
       "    <tr>\n",
       "      <th>3</th>\n",
       "      <td>happy</td>\n",
       "      <td>8.30</td>\n",
       "    </tr>\n",
       "    <tr>\n",
       "      <th>4</th>\n",
       "      <td>laughed</td>\n",
       "      <td>8.26</td>\n",
       "    </tr>\n",
       "  </tbody>\n",
       "</table>\n",
       "</div>"
      ],
      "text/plain": [
       "           word  score\n",
       "rank                  \n",
       "0      laughter   8.50\n",
       "1     happiness   8.44\n",
       "2          love   8.42\n",
       "3         happy   8.30\n",
       "4       laughed   8.26"
      ]
     },
     "execution_count": 2,
     "metadata": {},
     "output_type": "execute_result"
    }
   ],
   "source": [
    "# read in from labMT data and save to df\n",
    "df = pd.read_csv(\"LabMT 1.0.csv\", usecols=[0,1,2], names=['word','rank','score'], index_col=1)\n",
    "df.index = df.index - 1\n",
    "df.head()"
   ]
  },
  {
   "cell_type": "code",
   "execution_count": 3,
   "metadata": {},
   "outputs": [
    {
     "name": "stdout",
     "output_type": "stream",
     "text": [
      "\n"
     ]
    },
    {
     "data": {
      "image/png": "[encoded data removed]",
      "text/plain": [
       "<Figure size 432x288 with 1 Axes>"
      ]
     },
     "metadata": {
      "needs_background": "light"
     },
     "output_type": "display_data"
    }
   ],
   "source": [
    "# read in text\n",
    "infile = open(\"input.txt\", \"r\")\n",
    "text = infile.read()\n",
    "\n",
    "#split by                       words, single or double contractions\n",
    "words = pd.DataFrame(re.findall(r'\\w+\\'re|\\w+\\'.|\\w+', text))\n",
    "\n",
    "words.columns = [\"word\"]\n",
    "words[\"word\"] = words[\"word\"].str.lower() #convert to lowercase\n",
    "words[\"place\"] = words.index\n",
    "\n",
    "#words.head()\n",
    "\n",
    "#figure out words in df\n",
    "output = pd.merge(words, df, on=[\"word\"], how=\"inner\")\n",
    "output.sort_values(by=['place'], inplace=True)\n",
    "#print(output)\n",
    "\n",
    "#remove neutral words not really being considered \n",
    "nullwords = [\"and\", \"the\", \"there\", \"he\", \"she\", \"it\", \"was\", \"a\", \"an\", \"their\", \"they're\", \"for\", \"to\", \"from\", \"too\",\n",
    "             \"I\", \"me\", \"how\", \"them\", \"so\", \"this\", \"that\", \"we\", \"since\", \"is\", \"of\", \"be\", \"it's\", \"are\", \"\", \n",
    "             \"\", \"\", \"\", \"\", \"\", \"\", \"\", \"\", \"\", \"\"]\n",
    "\n",
    "output = output[~output[\"word\"].isin(nullwords)] #remove neutral words\n",
    "#print(output)\n",
    "\n",
    "#average every group of n scores of words\n",
    "n = 200\n",
    "output = output.groupby(np.arange(len(output))//n).mean()\n",
    "#print(output)\n",
    "\n",
    "#print timeline\n",
    "axes = plt.subplot()\n",
    "axes.plot(output[\"place\"], output[\"score\"], color=\"r\")\n",
    "axes.set_title(\"Happiness Rating over Time\")\n",
    "axes.set_ylabel(\"Happiness\")\n",
    "axes.set_xlabel(\"Time (Words)\")\n",
    "\n",
    "print()"
   ]
  },
  {
   "cell_type": "code",
   "execution_count": null,
   "metadata": {},
   "outputs": [],
   "source": []
  }
 ],
 "metadata": {
  "kernelspec": {
   "display_name": "Python 3",
   "language": "python",
   "name": "python3"
  },
  "language_info": {
   "codemirror_mode": {
    "name": "ipython",
    "version": 3
   },
   "file_extension": ".py",
   "mimetype": "text/x-python",
   "name": "python",
   "nbconvert_exporter": "python",
   "pygments_lexer": "ipython3",
   "version": "3.7.3"
  }
 },
 "nbformat": 4,
 "nbformat_minor": 2
}
